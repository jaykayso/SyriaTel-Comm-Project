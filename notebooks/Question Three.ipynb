{
 "cells": [
  {
   "cell_type": "markdown",
   "metadata": {},
   "source": [
    "## Final Project Submission\n",
    "\n",
    "Please fill out:\n",
    "* Student name: Jaklyn Soler\n",
    "* Student pace: Full Time\n",
    "* Scheduled project review date/time: \n",
    "* Instructor name: Rafael Carrasco\n",
    "* Blog post URL:\n"
   ]
  },
  {
   "cell_type": "markdown",
   "metadata": {},
   "source": [
    "# Strategic Approach\n",
    "\n",
    "The stakeholder, SyriaTel, is a telecommunications company whose goal is to better understand what factors are causing customer churn. Due to limits on data size, the model will only be robust enough to be used by SyriaTel to analyze their specific data provided.\n",
    "\n",
    "By exploring typical customer churn and using the CRISP-DM framework, I will seek to answer the following questions: \n",
    "\n",
    "1. What features of the dataset are primary determinants of customer churn and to what extent?\n",
    "\n",
    "2. What are the ways that these findings can be interpreted and how can SyriaTel implement cost-effective solutions?\n",
    "\n",
    "3. Will these solutions be feasible in reducing the customer churn rate by at least 7%?"
   ]
  },
  {
   "cell_type": "markdown",
   "metadata": {},
   "source": [
    "# Question Three"
   ]
  },
  {
   "cell_type": "markdown",
   "metadata": {},
   "source": [
    "# Will these solutions be feasible in reducing the customer churn rate by at least 7%?"
   ]
  },
  {
   "cell_type": "markdown",
   "metadata": {},
   "source": [
    "# Recall the Potential Solutions Visited in Question One: "
   ]
  },
  {
   "cell_type": "markdown",
   "metadata": {},
   "source": [
    "### High Churn Questions to Ask SyriaTel + Potential Solutions\n",
    "\n",
    "#### High Total Number of Day Minutes\n",
    " - Why would a high total number of day minutes contribute to high customer churn? If this is due to higher rates, SyriaTel should consider offering a plan with a constant monthly fee and investigating their compeitition in the market. Furthermore, a strategic marketing plan could specifically leverage SyriaTel above the competition.\n",
    " \n",
    "#### High Number of Customer Service Calls \n",
    " - Does a high number of customer service calls indicate multiple problems? If so, can SyriaTel use each opportunity to shift the customer experience from a negative one into a positive one? How can the company as a whole improve its methods of problem solving to ensure that a customer is not calling about the same problem more than one time?\n",
    " \n",
    "#### Customers with an International Plan\n",
    " - Why would customers with an international plan be more likely to churn? Is this a result of people leaving the country? If so, how can SyriaTel have a more competitive international plan? Can they increase flexibility by 'pausing' a plan and being able to 'turn the plan back on' whenever the customer returns to the country? If the churn is due to high fees, can SyriaTel create a flat-fee plan for the international plan? \n",
    " \n",
    "#### High Number of Night Minutes and International Minutes\n",
    " - Why is a high number of night minutes and international minutes contributing to customer churn? Is the high number of night minutes driving up the price of the phone bill?\n",
    " \n",
    " \n",
    "### Low Churn Questions to Ask SyriaTel + Potential Solutions\n",
    " \n",
    "#### Customers with a Voicemail Plan\n",
    " - Why are customers with a voicemail plan less likely to leave SyriaTel? Is this because they are providing people with their phone number? Is there a contract associated with it? \n",
    "\n",
    "#### High Number of Voicemails\n",
    " - Why are customers with a high number of voicemails less likely to leave SyriaTel? Is is due to the inconvenience of changing their phone number?\n",
    "\n",
    "#### High Number of International Calls \n",
    " - Customers with a high number of international calls are less likely to churn, but customers with an international plan and a high number of international minutes are more likely to churn. Is this due to the calls of these customers being higher in quantity but shorter in length, thus resulting in a lower customer charge?\n",
    " \n",
    " "
   ]
  },
  {
   "cell_type": "markdown",
   "metadata": {},
   "source": [
    "# Churn will need to be improved by 7.49% which is 247 customers annually."
   ]
  },
  {
   "cell_type": "markdown",
   "metadata": {},
   "source": [
    "### Predicting customer churn reduction with previously identified potential solutions. "
   ]
  },
  {
   "cell_type": "code",
   "execution_count": 1,
   "metadata": {
    "scrolled": false
   },
   "outputs": [
    {
     "data": {
      "text/html": [
       "<div>\n",
       "<style scoped>\n",
       "    .dataframe tbody tr th:only-of-type {\n",
       "        vertical-align: middle;\n",
       "    }\n",
       "\n",
       "    .dataframe tbody tr th {\n",
       "        vertical-align: top;\n",
       "    }\n",
       "\n",
       "    .dataframe thead th {\n",
       "        text-align: right;\n",
       "    }\n",
       "</style>\n",
       "<table border=\"1\" class=\"dataframe\">\n",
       "  <thead>\n",
       "    <tr style=\"text-align: right;\">\n",
       "      <th></th>\n",
       "      <th>account_length</th>\n",
       "      <th>area_code</th>\n",
       "      <th>intl_plan</th>\n",
       "      <th>vmail_plan</th>\n",
       "      <th>qty_vmails</th>\n",
       "      <th>sum_day_mins</th>\n",
       "      <th>sum_day_calls</th>\n",
       "      <th>total_day_charge</th>\n",
       "      <th>sum_eve_mins</th>\n",
       "      <th>sum_eve_calls</th>\n",
       "      <th>...</th>\n",
       "      <th>state_SD</th>\n",
       "      <th>state_TN</th>\n",
       "      <th>state_TX</th>\n",
       "      <th>state_UT</th>\n",
       "      <th>state_VA</th>\n",
       "      <th>state_VT</th>\n",
       "      <th>state_WA</th>\n",
       "      <th>state_WI</th>\n",
       "      <th>state_WV</th>\n",
       "      <th>state_WY</th>\n",
       "    </tr>\n",
       "  </thead>\n",
       "  <tbody>\n",
       "    <tr>\n",
       "      <th>0</th>\n",
       "      <td>128</td>\n",
       "      <td>415</td>\n",
       "      <td>0</td>\n",
       "      <td>1</td>\n",
       "      <td>25</td>\n",
       "      <td>265.1</td>\n",
       "      <td>110</td>\n",
       "      <td>45.07</td>\n",
       "      <td>197.4</td>\n",
       "      <td>99</td>\n",
       "      <td>...</td>\n",
       "      <td>0</td>\n",
       "      <td>0</td>\n",
       "      <td>0</td>\n",
       "      <td>0</td>\n",
       "      <td>0</td>\n",
       "      <td>0</td>\n",
       "      <td>0</td>\n",
       "      <td>0</td>\n",
       "      <td>0</td>\n",
       "      <td>0</td>\n",
       "    </tr>\n",
       "    <tr>\n",
       "      <th>1</th>\n",
       "      <td>107</td>\n",
       "      <td>415</td>\n",
       "      <td>0</td>\n",
       "      <td>1</td>\n",
       "      <td>26</td>\n",
       "      <td>161.6</td>\n",
       "      <td>123</td>\n",
       "      <td>27.47</td>\n",
       "      <td>195.5</td>\n",
       "      <td>103</td>\n",
       "      <td>...</td>\n",
       "      <td>0</td>\n",
       "      <td>0</td>\n",
       "      <td>0</td>\n",
       "      <td>0</td>\n",
       "      <td>0</td>\n",
       "      <td>0</td>\n",
       "      <td>0</td>\n",
       "      <td>0</td>\n",
       "      <td>0</td>\n",
       "      <td>0</td>\n",
       "    </tr>\n",
       "  </tbody>\n",
       "</table>\n",
       "<p>2 rows × 69 columns</p>\n",
       "</div>"
      ],
      "text/plain": [
       "   account_length  area_code  intl_plan  vmail_plan  qty_vmails  sum_day_mins  \\\n",
       "0             128        415          0           1          25         265.1   \n",
       "1             107        415          0           1          26         161.6   \n",
       "\n",
       "   sum_day_calls  total_day_charge  sum_eve_mins  sum_eve_calls  ...  \\\n",
       "0            110             45.07         197.4             99  ...   \n",
       "1            123             27.47         195.5            103  ...   \n",
       "\n",
       "   state_SD  state_TN  state_TX  state_UT  state_VA  state_VT  state_WA  \\\n",
       "0         0         0         0         0         0         0         0   \n",
       "1         0         0         0         0         0         0         0   \n",
       "\n",
       "   state_WI  state_WV  state_WY  \n",
       "0         0         0         0  \n",
       "1         0         0         0  \n",
       "\n",
       "[2 rows x 69 columns]"
      ]
     },
     "execution_count": 1,
     "metadata": {},
     "output_type": "execute_result"
    }
   ],
   "source": [
    "import pickle\n",
    "import pandas as pd\n",
    "import numpy as np\n",
    "import matplotlib.pyplot as plt\n",
    "\n",
    "one_hot_df = pd.read_pickle(\"./one_hot_df.pkl\")\n",
    "one_hot_df.head(2)"
   ]
  },
  {
   "cell_type": "markdown",
   "metadata": {},
   "source": [
    "# Finding a Strategic Monthly Price for Domestic Plans"
   ]
  },
  {
   "cell_type": "code",
   "execution_count": 2,
   "metadata": {},
   "outputs": [],
   "source": [
    "one_hot_df['total_charge'] = one_hot_df['total_day_charge'] + one_hot_df['total_eve_charge'] + one_hot_df['total_night_charge'] + one_hot_df['total_intl_charge']                                                                                                                                   "
   ]
  },
  {
   "cell_type": "code",
   "execution_count": 3,
   "metadata": {
    "scrolled": true
   },
   "outputs": [
    {
     "data": {
      "text/plain": [
       "22.93    1\n",
       "23.25    1\n",
       "25.52    1\n",
       "25.87    1\n",
       "27.02    1\n",
       "        ..\n",
       "90.12    1\n",
       "90.46    1\n",
       "92.20    1\n",
       "92.29    1\n",
       "96.15    1\n",
       "Name: total_charge, Length: 2678, dtype: int64"
      ]
     },
     "execution_count": 3,
     "metadata": {},
     "output_type": "execute_result"
    }
   ],
   "source": [
    "one_hot_df.total_charge.value_counts().sort_index()"
   ]
  },
  {
   "cell_type": "code",
   "execution_count": 4,
   "metadata": {},
   "outputs": [
    {
     "data": {
      "image/png": "[encoded data removed]",
      "text/plain": [
       "<Figure size 432x288 with 1 Axes>"
      ]
     },
     "metadata": {
      "needs_background": "light"
     },
     "output_type": "display_data"
    }
   ],
   "source": [
    "plt.hist(one_hot_df.total_charge)\n",
    "plt.title('Total Revenue By Customer')\n",
    "plt.xlabel('Phone Bill')\n",
    "plt.ylabel('Qty Customers')\n",
    "plt.show()"
   ]
  },
  {
   "cell_type": "markdown",
   "metadata": {},
   "source": [
    "### Total Monthly Revenue"
   ]
  },
  {
   "cell_type": "code",
   "execution_count": 5,
   "metadata": {},
   "outputs": [
    {
     "data": {
      "text/plain": [
       "198146.03"
      ]
     },
     "execution_count": 5,
     "metadata": {},
     "output_type": "execute_result"
    }
   ],
   "source": [
    "one_hot_df.total_charge.sum()"
   ]
  },
  {
   "cell_type": "markdown",
   "metadata": {},
   "source": [
    "# SyriaTel does not make most of its money from International Plan users; only roughly $2000"
   ]
  },
  {
   "cell_type": "markdown",
   "metadata": {},
   "source": [
    "### Total Monthly Revenue Excluding International Plans"
   ]
  },
  {
   "cell_type": "code",
   "execution_count": 6,
   "metadata": {},
   "outputs": [],
   "source": [
    "domestic = one_hot_df[one_hot_df['intl_plan'] == 0]"
   ]
  },
  {
   "cell_type": "code",
   "execution_count": 7,
   "metadata": {
    "scrolled": true
   },
   "outputs": [
    {
     "data": {
      "text/plain": [
       "178442.47999999998"
      ]
     },
     "execution_count": 7,
     "metadata": {},
     "output_type": "execute_result"
    }
   ],
   "source": [
    "non_int_rev = domestic.total_charge.sum()\n",
    "non_int_rev"
   ]
  },
  {
   "cell_type": "markdown",
   "metadata": {},
   "source": [
    "### Average Revenue by Non-International Customer"
   ]
  },
  {
   "cell_type": "markdown",
   "metadata": {},
   "source": [
    "This seems like a very high cost of a monthly phone bill. "
   ]
  },
  {
   "cell_type": "code",
   "execution_count": 8,
   "metadata": {
    "scrolled": false
   },
   "outputs": [
    {
     "data": {
      "text/plain": [
       "59.283215946843846"
      ]
     },
     "execution_count": 8,
     "metadata": {},
     "output_type": "execute_result"
    }
   ],
   "source": [
    "non_int_rev / domestic.shape[0]"
   ]
  },
  {
   "cell_type": "markdown",
   "metadata": {},
   "source": [
    "# Conclusion"
   ]
  },
  {
   "cell_type": "markdown",
   "metadata": {},
   "source": [
    "It could be possible for SyriaTel to reduce its customer churn if it is able to find a way to make a subscription model profitable. "
   ]
  },
  {
   "cell_type": "markdown",
   "metadata": {},
   "source": [
    "### Why does SyriaTel Need a Subscription Model?"
   ]
  },
  {
   "cell_type": "markdown",
   "metadata": {},
   "source": [
    "SyriaTel can significantly improve it's churn rate by implementing a flat monthly fee subscription model for it's customers. Not only do customers prefer subscription models as a way to automate their lives but also, subscription models help the companies using them too:\n",
    " - Customers are not upset or surprised by their bills. \n",
    " - Companies know ahead of time what their estimated revenue is from subscriptions.\n",
    " - Companies are able to provide better solutions for unique needs of customer segments. \n",
    " - Companies are able to build penalties around particular plans and subscriptions. \n",
    " - When customers receive penalties they are more likely to take responsibility since they are aware of the penalties of their subscription. "
   ]
  },
  {
   "cell_type": "markdown",
   "metadata": {},
   "source": [
    "# Future Work"
   ]
  },
  {
   "cell_type": "markdown",
   "metadata": {},
   "source": [
    "If SyriaTel is only making 2,000 of 19,000 on international plans monthly, maybe they should consider what they can do to bolster their revenue in that area since creating international equipment is expensive. "
   ]
  }
 ],
 "metadata": {
  "kernelspec": {
   "display_name": "Python 3",
   "language": "python",
   "name": "python3"
  },
  "language_info": {
   "codemirror_mode": {
    "name": "ipython",
    "version": 3
   },
   "file_extension": ".py",
   "mimetype": "text/x-python",
   "name": "python",
   "nbconvert_exporter": "python",
   "pygments_lexer": "ipython3",
   "version": "3.6.9"
  }
 },
 "nbformat": 4,
 "nbformat_minor": 2
}
